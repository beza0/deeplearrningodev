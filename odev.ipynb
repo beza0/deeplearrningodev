{
  "cells": [
    {
      "cell_type": "code",
      "execution_count": 46,
      "id": "57d00fe8",
      "metadata": {
        "_kg_hide-input": true,
        "execution": {
          "iopub.execute_input": "2022-11-20T12:19:50.633440Z",
          "iopub.status.busy": "2022-11-20T12:19:50.632932Z",
          "iopub.status.idle": "2022-11-20T12:19:50.652230Z",
          "shell.execute_reply": "2022-11-20T12:19:50.651006Z"
        },
        "jupyter": {
          "source_hidden": true
        },
        "papermill": {
          "duration": 0.036204,
          "end_time": "2022-11-20T12:19:50.655244",
          "exception": false,
          "start_time": "2022-11-20T12:19:50.619040",
          "status": "completed"
        },
        "tags": [],
        "id": "57d00fe8",
        "outputId": "a715d420-a345-4ec1-c1e8-5590787ef25a",
        "colab": {
          "base_uri": "https://localhost:8080/",
          "height": 17
        }
      },
      "outputs": [
        {
          "output_type": "execute_result",
          "data": {
            "text/plain": [
              "<IPython.core.display.HTML object>"
            ],
            "text/html": [
              "<style>\n",
              "\n",
              "h1 {\n",
              "    border: 1.5px solid #2968A3;\n",
              "    padding: 8px 12px;\n",
              "    border-radius:5px;\n",
              "    background-image: linear-gradient(180deg, #FFFFFF, rgb(41,104,163)); /* blue */\n",
              "    position: static;\n",
              "}\n",
              "\n",
              "h2 {\n",
              "    color:white;\n",
              "    padding: 6px 10px;\n",
              "    border-radius:4px;\n",
              "    display:fill;\n",
              "    background-color:#2968A3;\n",
              "    position: static;\n",
              "}\n",
              "\n",
              "blockquote {\n",
              "  border: 1px groove gray;\n",
              "  border-radius: 3px;\n",
              "  background-color: rgb(255, 253, 208); */ #fffdd0, cream */\n",
              "}\n",
              "\n",
              "</style>"
            ]
          },
          "metadata": {},
          "execution_count": 46
        }
      ],
      "source": [
        "# Style cell, select View -> Hide cell from viewers -> Input and hide output\n",
        "my_css=\"\"\"\n",
        "\n",
        "h1 {\n",
        "    border: 1.5px solid #2968A3;\n",
        "    padding: 8px 12px;\n",
        "    border-radius:5px;\n",
        "    background-image: linear-gradient(180deg, #FFFFFF, rgb(41,104,163)); /* blue */\n",
        "    position: static;\n",
        "}\n",
        "\n",
        "h2 {\n",
        "    color:white;\n",
        "    padding: 6px 10px;\n",
        "    border-radius:4px;\n",
        "    display:fill;\n",
        "    background-color:#2968A3;\n",
        "    position: static;\n",
        "}\n",
        "\n",
        "blockquote {\n",
        "  border: 1px groove gray;\n",
        "  border-radius: 3px;\n",
        "  background-color: rgb(255, 253, 208); */ #fffdd0, cream */\n",
        "}\n",
        "\n",
        "\"\"\"\n",
        "\n",
        "open('style.css', 'w').write(my_css)\n",
        "from IPython.core.display import HTML\n",
        "\n",
        "def css_styling():\n",
        "    styles = open(\"./style.css\", \"r\").read()\n",
        "    return HTML(\"<style>\" + open(\"style.css\", \"r\").read() + \"</style>\")\n",
        "css_styling()"
      ]
    },
    {
      "cell_type": "markdown",
      "id": "887a9e8a",
      "metadata": {
        "papermill": {
          "duration": 0.010473,
          "end_time": "2022-11-20T12:19:50.676947",
          "exception": false,
          "start_time": "2022-11-20T12:19:50.666474",
          "status": "completed"
        },
        "tags": [],
        "id": "887a9e8a"
      },
      "source": [
        "# Introduction\n",
        "\n",
        "This notebook presents a simple guide to creating an artificial neural network with PyTorch. It will predict the outcome of the hand-written images from the Modified National Institute of Standards and Technology dataset (MNIST).\n",
        "\n",
        "The guide contains the most elementary PyTorch elements to create and evaluate a network.\n"
      ]
    },
    {
      "cell_type": "code",
      "execution_count": 47,
      "id": "8adab5e2",
      "metadata": {
        "_cell_guid": "b1076dfc-b9ad-4769-8c92-a6c4dae69d19",
        "_uuid": "8f2839f25d086af736a60e9eeb907d3b93b6e0e5",
        "execution": {
          "iopub.execute_input": "2022-11-20T12:19:50.701747Z",
          "iopub.status.busy": "2022-11-20T12:19:50.700998Z",
          "iopub.status.idle": "2022-11-20T12:19:53.073098Z",
          "shell.execute_reply": "2022-11-20T12:19:53.071710Z"
        },
        "papermill": {
          "duration": 2.387825,
          "end_time": "2022-11-20T12:19:53.076121",
          "exception": false,
          "start_time": "2022-11-20T12:19:50.688296",
          "status": "completed"
        },
        "tags": [],
        "id": "8adab5e2"
      },
      "outputs": [],
      "source": [
        "import torch\n",
        "from torch import nn\n",
        "from torch.nn import functional as F\n",
        "\n",
        "from torch.utils.data import DataLoader # loads data in batches\n",
        "from torchvision import datasets # load MNIST\n",
        "import torchvision.transforms as T # transformers for computer vision"
      ]
    },
    {
      "cell_type": "code",
      "execution_count": 48,
      "id": "28181fbb",
      "metadata": {
        "execution": {
          "iopub.execute_input": "2022-11-20T12:19:53.102527Z",
          "iopub.status.busy": "2022-11-20T12:19:53.101625Z",
          "iopub.status.idle": "2022-11-20T12:19:53.106533Z",
          "shell.execute_reply": "2022-11-20T12:19:53.105688Z"
        },
        "papermill": {
          "duration": 0.019814,
          "end_time": "2022-11-20T12:19:53.108861",
          "exception": false,
          "start_time": "2022-11-20T12:19:53.089047",
          "status": "completed"
        },
        "tags": [],
        "id": "28181fbb"
      },
      "outputs": [],
      "source": [
        "import numpy as np\n",
        "import matplotlib.pyplot as plt\n",
        "from tqdm import tqdm # progress bar"
      ]
    },
    {
      "cell_type": "markdown",
      "id": "6b9c481c",
      "metadata": {
        "execution": {
          "iopub.execute_input": "2022-08-05T23:37:48.189220Z",
          "iopub.status.busy": "2022-08-05T23:37:48.188818Z",
          "iopub.status.idle": "2022-08-05T23:37:48.193684Z",
          "shell.execute_reply": "2022-08-05T23:37:48.192628Z",
          "shell.execute_reply.started": "2022-08-05T23:37:48.189190Z"
        },
        "papermill": {
          "duration": 0.011515,
          "end_time": "2022-11-20T12:19:53.132010",
          "exception": false,
          "start_time": "2022-11-20T12:19:53.120495",
          "status": "completed"
        },
        "tags": [],
        "id": "6b9c481c"
      },
      "source": [
        "# Torchvision datasets\n",
        "\n",
        "We obtain the [MNIST dataset](https://pytorch.org/vision/main/generated/torchvision.datasets.MNIST.html) via torchvision. The dataset contains 60,000 records (images), each having 784 incoming features (28 x 28 pixels). Note that `datasets` is an object imported from torchvision, not to confuse with from the Dataset object (used in torch.utils.data import Dataset)\n",
        "\n",
        "```from torchvision import datasets```\n",
        "\n",
        "When called for the first time, the datasets will be downloaded to the path specified in the `root` argument. After that, Torchvision will look first for a local copy before attempting another download."
      ]
    },
    {
      "cell_type": "markdown",
      "id": "07486d84",
      "metadata": {
        "execution": {
          "iopub.execute_input": "2022-08-06T22:12:57.413408Z",
          "iopub.status.busy": "2022-08-06T22:12:57.413031Z",
          "iopub.status.idle": "2022-08-06T22:12:57.419602Z",
          "shell.execute_reply": "2022-08-06T22:12:57.418347Z",
          "shell.execute_reply.started": "2022-08-06T22:12:57.413377Z"
        },
        "papermill": {
          "duration": 0.010846,
          "end_time": "2022-11-20T12:19:53.154737",
          "exception": false,
          "start_time": "2022-11-20T12:19:53.143891",
          "status": "completed"
        },
        "tags": [],
        "id": "07486d84"
      },
      "source": [
        "> **torchvision.transforms**. A transformer operates on the data. Using the ' transform' argument, we can apply multiple transformations (reshape, convert to tensor, normalize, etc.) to the data obtained."
      ]
    },
    {
      "cell_type": "code",
      "execution_count": 49,
      "id": "b2466179",
      "metadata": {
        "execution": {
          "iopub.execute_input": "2022-11-20T12:19:53.179802Z",
          "iopub.status.busy": "2022-11-20T12:19:53.179392Z",
          "iopub.status.idle": "2022-11-20T12:19:55.371459Z",
          "shell.execute_reply": "2022-11-20T12:19:55.370192Z"
        },
        "papermill": {
          "duration": 2.208848,
          "end_time": "2022-11-20T12:19:55.374459",
          "exception": false,
          "start_time": "2022-11-20T12:19:53.165611",
          "status": "completed"
        },
        "tags": [],
        "id": "b2466179"
      },
      "outputs": [],
      "source": [
        "mytransform = T.ToTensor() # image (3D array) to Tensor\n",
        "\n",
        "train_data = datasets.MNIST(root = './', download=True, train = True, transform = mytransform)\n",
        "test_data = datasets.MNIST(root = './', download=True, train = False, transform = mytransform)"
      ]
    },
    {
      "cell_type": "markdown",
      "id": "1fcb5cb9",
      "metadata": {
        "papermill": {
          "duration": 0.011904,
          "end_time": "2022-11-20T12:19:55.398647",
          "exception": false,
          "start_time": "2022-11-20T12:19:55.386743",
          "status": "completed"
        },
        "tags": [],
        "id": "1fcb5cb9"
      },
      "source": [
        "Note that the first image in the dataset is a 3D tensor (C, H, W) for the number of channels (C), Height (H), and Width (W)."
      ]
    },
    {
      "cell_type": "code",
      "execution_count": 50,
      "id": "e8da3c05",
      "metadata": {
        "execution": {
          "iopub.execute_input": "2022-11-20T12:19:55.424167Z",
          "iopub.status.busy": "2022-11-20T12:19:55.423721Z",
          "iopub.status.idle": "2022-11-20T12:19:55.431585Z",
          "shell.execute_reply": "2022-11-20T12:19:55.430476Z"
        },
        "papermill": {
          "duration": 0.023625,
          "end_time": "2022-11-20T12:19:55.434031",
          "exception": false,
          "start_time": "2022-11-20T12:19:55.410406",
          "status": "completed"
        },
        "tags": [],
        "id": "e8da3c05",
        "outputId": "89430aad-5dab-4a44-9105-a6834d4ad12c",
        "colab": {
          "base_uri": "https://localhost:8080/"
        }
      },
      "outputs": [
        {
          "output_type": "execute_result",
          "data": {
            "text/plain": [
              "torch.Size([1, 28, 28])"
            ]
          },
          "metadata": {},
          "execution_count": 50
        }
      ],
      "source": [
        "img, label = train_data[0]\n",
        "img.shape # returns a Tensor of Size 1,28,28"
      ]
    },
    {
      "cell_type": "markdown",
      "id": "00a40d70",
      "metadata": {
        "execution": {
          "iopub.execute_input": "2022-08-06T22:28:48.870692Z",
          "iopub.status.busy": "2022-08-06T22:28:48.870011Z",
          "iopub.status.idle": "2022-08-06T22:28:48.877179Z",
          "shell.execute_reply": "2022-08-06T22:28:48.875971Z",
          "shell.execute_reply.started": "2022-08-06T22:28:48.870647Z"
        },
        "papermill": {
          "duration": 0.011969,
          "end_time": "2022-11-20T12:19:55.458837",
          "exception": false,
          "start_time": "2022-11-20T12:19:55.446868",
          "status": "completed"
        },
        "tags": [],
        "id": "00a40d70"
      },
      "source": [
        "We plot the first image if we reshape the image into a 2D array (HxW)."
      ]
    },
    {
      "cell_type": "code",
      "execution_count": 51,
      "id": "17f71b29",
      "metadata": {
        "execution": {
          "iopub.execute_input": "2022-11-20T12:19:55.484726Z",
          "iopub.status.busy": "2022-11-20T12:19:55.484293Z",
          "iopub.status.idle": "2022-11-20T12:19:55.625220Z",
          "shell.execute_reply": "2022-11-20T12:19:55.623304Z"
        },
        "papermill": {
          "duration": 0.160081,
          "end_time": "2022-11-20T12:19:55.630765",
          "exception": false,
          "start_time": "2022-11-20T12:19:55.470684",
          "status": "completed"
        },
        "tags": [],
        "id": "17f71b29",
        "outputId": "e075c45e-1d02-4c96-a149-8c649fd91e08",
        "colab": {
          "base_uri": "https://localhost:8080/",
          "height": 406
        }
      },
      "outputs": [
        {
          "output_type": "display_data",
          "data": {
            "text/plain": [
              "<Figure size 640x480 with 1 Axes>"
            ],
            "image/png": "[encoded data removed]"
          },
          "metadata": {}
        }
      ],
      "source": [
        "# We could simply plot the tensor\n",
        "plt.imshow(img.reshape(28,28), cmap = 'gist_yarg'); # gist_yarg plots inverse of W&B\n",
        "plt.axis('off');"
      ]
    },
    {
      "cell_type": "markdown",
      "id": "5441974e",
      "metadata": {
        "papermill": {
          "duration": 0.012821,
          "end_time": "2022-11-20T12:19:55.662562",
          "exception": false,
          "start_time": "2022-11-20T12:19:55.649741",
          "status": "completed"
        },
        "tags": [],
        "id": "5441974e"
      },
      "source": [
        "# DataLoader\n",
        "\n",
        "The PyTorch DataLoader object allows the preparation of the dataset in batches of different sizes and shuffles them if necessary when exposing them to the training.\n",
        "\n",
        "```from torch.utils.data import DataLoader```\n",
        "\n",
        "> Note that the DataLoader object shuffles the data by default."
      ]
    },
    {
      "cell_type": "code",
      "execution_count": 52,
      "id": "38244bb0",
      "metadata": {
        "execution": {
          "iopub.execute_input": "2022-11-20T12:19:55.689534Z",
          "iopub.status.busy": "2022-11-20T12:19:55.688562Z",
          "iopub.status.idle": "2022-11-20T12:19:55.698908Z",
          "shell.execute_reply": "2022-11-20T12:19:55.697598Z"
        },
        "papermill": {
          "duration": 0.02654,
          "end_time": "2022-11-20T12:19:55.701583",
          "exception": false,
          "start_time": "2022-11-20T12:19:55.675043",
          "status": "completed"
        },
        "tags": [],
        "id": "38244bb0"
      },
      "outputs": [],
      "source": [
        "torch.manual_seed(101)\n",
        "\n",
        "train_loader = DataLoader(train_data, batch_size = 100, shuffle=True)\n",
        "# the test loader can be bigger and doesn't need to be shuffled\n",
        "test_loader =  DataLoader(test_data,  batch_size = 500, shuffle=False)"
      ]
    },
    {
      "cell_type": "markdown",
      "id": "065ad28a",
      "metadata": {
        "papermill": {
          "duration": 0.011738,
          "end_time": "2022-11-20T12:19:55.725521",
          "exception": false,
          "start_time": "2022-11-20T12:19:55.713783",
          "status": "completed"
        },
        "tags": [],
        "id": "065ad28a"
      },
      "source": [
        "I like using a dummy class definition called `Loader` to access both the train and the test loaders. Of course, I could employ a dictionary, but I think a class it's easier to define."
      ]
    },
    {
      "cell_type": "code",
      "execution_count": 53,
      "id": "f34339b9",
      "metadata": {
        "execution": {
          "iopub.execute_input": "2022-11-20T12:19:55.752057Z",
          "iopub.status.busy": "2022-11-20T12:19:55.751601Z",
          "iopub.status.idle": "2022-11-20T12:19:55.760517Z",
          "shell.execute_reply": "2022-11-20T12:19:55.758759Z"
        },
        "papermill": {
          "duration": 0.025859,
          "end_time": "2022-11-20T12:19:55.763352",
          "exception": false,
          "start_time": "2022-11-20T12:19:55.737493",
          "status": "completed"
        },
        "tags": [],
        "id": "f34339b9",
        "outputId": "620e5ba2-9c4d-4b4d-94da-b6e615eb9961",
        "colab": {
          "base_uri": "https://localhost:8080/"
        }
      },
      "outputs": [
        {
          "output_type": "stream",
          "name": "stdout",
          "text": [
            "Loader(train=<torch.utils.data.dataloader.DataLoader object at 0x7cc8dc4762d0>, test=<torch.utils.data.dataloader.DataLoader object at 0x7cc8dc2f6420>)\n"
          ]
        }
      ],
      "source": [
        "from dataclasses import dataclass\n",
        "\n",
        "@dataclass\n",
        "class Loader:\n",
        "    \"\"\"\n",
        "    Custom class to accomodate train and test loader iterators\n",
        "    \"\"\"\n",
        "    train: DataLoader  # train DataLoader iterable object\n",
        "    test:  DataLoader  # test DataLoader iterable object\n",
        "\n",
        "myloader = Loader(train = train_loader, test = test_loader)\n",
        "print(myloader)"
      ]
    },
    {
      "cell_type": "markdown",
      "id": "bae47f18",
      "metadata": {
        "papermill": {
          "duration": 0.012849,
          "end_time": "2022-11-20T12:19:55.788606",
          "exception": false,
          "start_time": "2022-11-20T12:19:55.775757",
          "status": "completed"
        },
        "tags": [],
        "id": "bae47f18"
      },
      "source": [
        "If we run one iteration now, we will have one batch of the training dataset (100 images and labels)."
      ]
    },
    {
      "cell_type": "code",
      "execution_count": 54,
      "id": "4188898b",
      "metadata": {
        "execution": {
          "iopub.execute_input": "2022-11-20T12:19:55.815603Z",
          "iopub.status.busy": "2022-11-20T12:19:55.815185Z",
          "iopub.status.idle": "2022-11-20T12:19:55.847665Z",
          "shell.execute_reply": "2022-11-20T12:19:55.846412Z"
        },
        "papermill": {
          "duration": 0.048599,
          "end_time": "2022-11-20T12:19:55.850297",
          "exception": false,
          "start_time": "2022-11-20T12:19:55.801698",
          "status": "completed"
        },
        "tags": [],
        "id": "4188898b",
        "outputId": "b7241b57-7309-4f90-9881-c55e5d6b92a6",
        "colab": {
          "base_uri": "https://localhost:8080/"
        }
      },
      "outputs": [
        {
          "output_type": "execute_result",
          "data": {
            "text/plain": [
              "torch.Size([100, 1, 28, 28])"
            ]
          },
          "metadata": {},
          "execution_count": 54
        }
      ],
      "source": [
        "# Plot 10 images\n",
        "for img, label in myloader.train:\n",
        "    break # we run only one iteration , after that we break\n",
        "img.shape # bz, ch, W H"
      ]
    },
    {
      "cell_type": "markdown",
      "id": "2d5109a5",
      "metadata": {
        "papermill": {
          "duration": 0.012983,
          "end_time": "2022-11-20T12:19:55.875638",
          "exception": false,
          "start_time": "2022-11-20T12:19:55.862655",
          "status": "completed"
        },
        "tags": [],
        "id": "2d5109a5"
      },
      "source": [
        "Let's select the 50 first images of the batch to plot them."
      ]
    },
    {
      "cell_type": "code",
      "execution_count": 55,
      "id": "e62aeb68",
      "metadata": {
        "execution": {
          "iopub.execute_input": "2022-11-20T12:19:55.902575Z",
          "iopub.status.busy": "2022-11-20T12:19:55.901208Z",
          "iopub.status.idle": "2022-11-20T12:19:55.908449Z",
          "shell.execute_reply": "2022-11-20T12:19:55.907516Z"
        },
        "papermill": {
          "duration": 0.022866,
          "end_time": "2022-11-20T12:19:55.910719",
          "exception": false,
          "start_time": "2022-11-20T12:19:55.887853",
          "status": "completed"
        },
        "tags": [],
        "id": "e62aeb68",
        "outputId": "326311a2-151a-41d9-e11a-56b652e029a0",
        "colab": {
          "base_uri": "https://localhost:8080/"
        }
      },
      "outputs": [
        {
          "output_type": "execute_result",
          "data": {
            "text/plain": [
              "(50, 1, 28, 28)"
            ]
          },
          "metadata": {},
          "execution_count": 55
        }
      ],
      "source": [
        "myimages = img[:50].numpy() # we now obtain NumPy arrays\n",
        "myimages.shape"
      ]
    },
    {
      "cell_type": "markdown",
      "id": "af8c3858",
      "metadata": {
        "papermill": {
          "duration": 0.011747,
          "end_time": "2022-11-20T12:19:55.934665",
          "exception": false,
          "start_time": "2022-11-20T12:19:55.922918",
          "status": "completed"
        },
        "tags": [],
        "id": "af8c3858"
      },
      "source": [
        "We will need to transpose the NumPy array to plot it with matplotlib (accepts height x width matrices)."
      ]
    },
    {
      "cell_type": "code",
      "execution_count": 56,
      "id": "2edd908b",
      "metadata": {
        "execution": {
          "iopub.execute_input": "2022-11-20T12:19:55.961311Z",
          "iopub.status.busy": "2022-11-20T12:19:55.960617Z",
          "iopub.status.idle": "2022-11-20T12:19:55.967236Z",
          "shell.execute_reply": "2022-11-20T12:19:55.966033Z"
        },
        "papermill": {
          "duration": 0.022712,
          "end_time": "2022-11-20T12:19:55.969599",
          "exception": false,
          "start_time": "2022-11-20T12:19:55.946887",
          "status": "completed"
        },
        "tags": [],
        "id": "2edd908b",
        "outputId": "c9b0b8ee-10c1-4860-81f3-c70c36d486aa",
        "colab": {
          "base_uri": "https://localhost:8080/"
        }
      },
      "outputs": [
        {
          "output_type": "execute_result",
          "data": {
            "text/plain": [
              "(1, 28, 28)"
            ]
          },
          "metadata": {},
          "execution_count": 56
        }
      ],
      "source": [
        "myimages[0].shape # channel, height, width"
      ]
    },
    {
      "cell_type": "code",
      "execution_count": 57,
      "id": "e1ff6b98",
      "metadata": {
        "execution": {
          "iopub.execute_input": "2022-11-20T12:19:55.996176Z",
          "iopub.status.busy": "2022-11-20T12:19:55.995737Z",
          "iopub.status.idle": "2022-11-20T12:19:56.003605Z",
          "shell.execute_reply": "2022-11-20T12:19:56.002185Z"
        },
        "papermill": {
          "duration": 0.024053,
          "end_time": "2022-11-20T12:19:56.006051",
          "exception": false,
          "start_time": "2022-11-20T12:19:55.981998",
          "status": "completed"
        },
        "tags": [],
        "id": "e1ff6b98",
        "outputId": "423dc5ad-4c72-417d-8e6c-f824798b8332",
        "colab": {
          "base_uri": "https://localhost:8080/"
        }
      },
      "outputs": [
        {
          "output_type": "execute_result",
          "data": {
            "text/plain": [
              "(28, 28, 1)"
            ]
          },
          "metadata": {},
          "execution_count": 57
        }
      ],
      "source": [
        "myimages[0].transpose(1,2,0).shape # height, width, channel"
      ]
    },
    {
      "cell_type": "code",
      "execution_count": 58,
      "id": "7820fc84",
      "metadata": {
        "execution": {
          "iopub.execute_input": "2022-11-20T12:19:56.033096Z",
          "iopub.status.busy": "2022-11-20T12:19:56.032357Z",
          "iopub.status.idle": "2022-11-20T12:19:57.514641Z",
          "shell.execute_reply": "2022-11-20T12:19:57.513451Z"
        },
        "papermill": {
          "duration": 1.499336,
          "end_time": "2022-11-20T12:19:57.517796",
          "exception": false,
          "start_time": "2022-11-20T12:19:56.018460",
          "status": "completed"
        },
        "tags": [],
        "id": "7820fc84",
        "outputId": "b814decf-a435-4521-86fe-adf013eb98a3",
        "colab": {
          "base_uri": "https://localhost:8080/",
          "height": 344
        }
      },
      "outputs": [
        {
          "output_type": "display_data",
          "data": {
            "text/plain": [
              "<Figure size 800x400 with 50 Axes>"
            ],
            "image/png": "[encoded data removed]"
          },
          "metadata": {}
        }
      ],
      "source": [
        "fig, ax = plt.subplots(nrows = 5, ncols = 10, figsize=(8,4), subplot_kw={'xticks': [], 'yticks': []})\n",
        "for row in range(0,5):\n",
        "    for col in range(0,10):\n",
        "        myid = (10*row) + col # (ncols*rows) + cols\n",
        "\n",
        "        ax[row,col].imshow( myimages[myid].transpose(1,2,0), cmap = 'gist_yarg' ) # W,H,C\n",
        "        ax[row,col].axis('off')"
      ]
    },
    {
      "cell_type": "markdown",
      "id": "5e114a9e",
      "metadata": {
        "papermill": {
          "duration": 0.013741,
          "end_time": "2022-11-20T12:19:57.545538",
          "exception": false,
          "start_time": "2022-11-20T12:19:57.531797",
          "status": "completed"
        },
        "tags": [],
        "id": "5e114a9e"
      },
      "source": [
        "# Create the network\n",
        "\n",
        "The training set contains 60,000 records with 784 incoming features. The first layer is 784 neurons. After that, we create two fully connected layers of 120 and 84 neurons, respectively. The activation function we use is a Rectified Linear Unit (ReLU) function. This piecewise function that makes negative inputs to the neuron will be zero and scales up to positive ones.\n",
        "\n",
        "Finally, the output layer contains ten layers. Every layer is the probability of having the label given (from 1 to 10), with the condition that the sum of the probabilities is one (Log softmax)."
      ]
    },
    {
      "cell_type": "code",
      "execution_count": 59,
      "id": "0316cd20",
      "metadata": {
        "execution": {
          "iopub.execute_input": "2022-11-20T12:19:57.577061Z",
          "iopub.status.busy": "2022-11-20T12:19:57.576650Z",
          "iopub.status.idle": "2022-11-20T12:19:57.586119Z",
          "shell.execute_reply": "2022-11-20T12:19:57.584696Z"
        },
        "papermill": {
          "duration": 0.029037,
          "end_time": "2022-11-20T12:19:57.588896",
          "exception": false,
          "start_time": "2022-11-20T12:19:57.559859",
          "status": "completed"
        },
        "tags": [],
        "id": "0316cd20"
      },
      "outputs": [],
      "source": [
        "class MultilayerPerceptron(nn.Module):\n",
        "    \"\"\"\n",
        "    A simple multilayer perceptron network\n",
        "\n",
        "    \"\"\"\n",
        "    def __init__(self, in_features = 784, out_features=10):\n",
        "        \"\"\"\n",
        "        * 784 input layers\n",
        "        * 2 hiden layers of 120 and 84 neurons respectively\n",
        "        * 10 output layer\n",
        "        \"\"\"\n",
        "        super(MultilayerPerceptron, self).__init__()\n",
        "\n",
        "        self.fc1 = nn.Linear(in_features, 120)\n",
        "        self.fc2 = nn.Linear(120, 84)\n",
        "        self.fc3 = nn.Linear(84, out_features)\n",
        "\n",
        "    def forward(self, X):\n",
        "\n",
        "        X = F.relu(self.fc1(X)) # Rectified Linear Unit (ReLU)\n",
        "        X = F.relu(self.fc2(X)) # Rectified Linear Unit (ReLU)\n",
        "        X = self.fc3(X)\n",
        "\n",
        "        return F.log_softmax(X, dim = 1) # multi-class classification, the sum of all probabilities is 1"
      ]
    },
    {
      "cell_type": "code",
      "execution_count": 60,
      "id": "39992211",
      "metadata": {
        "execution": {
          "iopub.execute_input": "2022-11-20T12:19:57.618866Z",
          "iopub.status.busy": "2022-11-20T12:19:57.618320Z",
          "iopub.status.idle": "2022-11-20T12:19:57.631261Z",
          "shell.execute_reply": "2022-11-20T12:19:57.630261Z"
        },
        "papermill": {
          "duration": 0.031219,
          "end_time": "2022-11-20T12:19:57.634063",
          "exception": false,
          "start_time": "2022-11-20T12:19:57.602844",
          "status": "completed"
        },
        "tags": [],
        "id": "39992211",
        "outputId": "c5ccf190-7118-4d93-9b0f-39b7f36003e7",
        "colab": {
          "base_uri": "https://localhost:8080/"
        }
      },
      "outputs": [
        {
          "output_type": "execute_result",
          "data": {
            "text/plain": [
              "MultilayerPerceptron(\n",
              "  (fc1): Linear(in_features=784, out_features=120, bias=True)\n",
              "  (fc2): Linear(in_features=120, out_features=84, bias=True)\n",
              "  (fc3): Linear(in_features=84, out_features=10, bias=True)\n",
              ")"
            ]
          },
          "metadata": {},
          "execution_count": 60
        }
      ],
      "source": [
        "torch.manual_seed(101)\n",
        "\n",
        "mymodel = MultilayerPerceptron() # default params are in_features = 784, out_features=10\n",
        "mymodel # check topology"
      ]
    },
    {
      "cell_type": "markdown",
      "id": "5a138ddf",
      "metadata": {
        "papermill": {
          "duration": 0.014224,
          "end_time": "2022-11-20T12:19:57.662847",
          "exception": false,
          "start_time": "2022-11-20T12:19:57.648623",
          "status": "completed"
        },
        "tags": [],
        "id": "5a138ddf"
      },
      "source": [
        "* We select the [cross-entroy](https://pytorch.org/docs/stable/generated/torch.nn.functional.cross_entropy.html?highlight=entropy) as the cost function. The cross-entropy is similar to the quadratic formula, but it predicts the probability distribution of each class.\n",
        "\n",
        "* We define the optimization method. The simplest one is the [Adaptative Stochastic Gradient Descent method](https://pytorch.org/docs/stable/generated/torch.optim.Adam.html)."
      ]
    },
    {
      "cell_type": "code",
      "execution_count": 61,
      "id": "1bcbd892",
      "metadata": {
        "execution": {
          "iopub.execute_input": "2022-11-20T12:19:57.692790Z",
          "iopub.status.busy": "2022-11-20T12:19:57.692385Z",
          "iopub.status.idle": "2022-11-20T12:19:57.698975Z",
          "shell.execute_reply": "2022-11-20T12:19:57.697608Z"
        },
        "papermill": {
          "duration": 0.024166,
          "end_time": "2022-11-20T12:19:57.701535",
          "exception": false,
          "start_time": "2022-11-20T12:19:57.677369",
          "status": "completed"
        },
        "tags": [],
        "id": "1bcbd892"
      },
      "outputs": [],
      "source": [
        "criterion = nn.CrossEntropyLoss()\n",
        "\n",
        "optimizer = torch.optim.Adam(mymodel.parameters(), lr = 1e-3)"
      ]
    },
    {
      "cell_type": "markdown",
      "id": "88df4eba",
      "metadata": {
        "papermill": {
          "duration": 0.013635,
          "end_time": "2022-11-20T12:19:57.729888",
          "exception": false,
          "start_time": "2022-11-20T12:19:57.716253",
          "status": "completed"
        },
        "tags": [],
        "id": "88df4eba"
      },
      "source": [
        "How many parameters do we need to evaluate?\n",
        "\n",
        "* Number of weights = (784 x 120) + (120 x 84) + (84 x 10) = 105,000\n",
        "* Number of biases = 120 + 84 + 10 = 214\n",
        "\n",
        "Total = 105,214"
      ]
    },
    {
      "cell_type": "code",
      "execution_count": 62,
      "id": "d546f55a",
      "metadata": {
        "execution": {
          "iopub.execute_input": "2022-11-20T12:19:57.759777Z",
          "iopub.status.busy": "2022-11-20T12:19:57.759333Z",
          "iopub.status.idle": "2022-11-20T12:19:57.767655Z",
          "shell.execute_reply": "2022-11-20T12:19:57.766434Z"
        },
        "papermill": {
          "duration": 0.026393,
          "end_time": "2022-11-20T12:19:57.770355",
          "exception": false,
          "start_time": "2022-11-20T12:19:57.743962",
          "status": "completed"
        },
        "tags": [],
        "id": "d546f55a",
        "outputId": "7c46e643-da03-4fe9-d34d-27b5f972e200",
        "colab": {
          "base_uri": "https://localhost:8080/"
        }
      },
      "outputs": [
        {
          "output_type": "execute_result",
          "data": {
            "text/plain": [
              "np.int64(105214)"
            ]
          },
          "metadata": {},
          "execution_count": 62
        }
      ],
      "source": [
        "params = [p.numel() for p in mymodel.parameters() if p.requires_grad]\n",
        "np.sum(params)"
      ]
    },
    {
      "cell_type": "markdown",
      "id": "59f832fd",
      "metadata": {
        "papermill": {
          "duration": 0.01425,
          "end_time": "2022-11-20T12:19:57.798923",
          "exception": false,
          "start_time": "2022-11-20T12:19:57.784673",
          "status": "completed"
        },
        "tags": [],
        "id": "59f832fd"
      },
      "source": [
        "# Training and evaluation\n",
        "\n",
        "1. Before starting, we must consider that the DataLoader returns a tensor of size [100,1,28,28], but our model accepts 1D vectors of 784 pixels (28x28). Therefore, we must flatten the tensor to accommodate the model's input."
      ]
    },
    {
      "cell_type": "code",
      "execution_count": 63,
      "id": "24673d90",
      "metadata": {
        "execution": {
          "iopub.execute_input": "2022-11-20T12:19:57.829419Z",
          "iopub.status.busy": "2022-11-20T12:19:57.828993Z",
          "iopub.status.idle": "2022-11-20T12:19:57.853361Z",
          "shell.execute_reply": "2022-11-20T12:19:57.852165Z"
        },
        "papermill": {
          "duration": 0.042718,
          "end_time": "2022-11-20T12:19:57.855831",
          "exception": false,
          "start_time": "2022-11-20T12:19:57.813113",
          "status": "completed"
        },
        "tags": [],
        "id": "24673d90",
        "outputId": "ca6bf7d6-f54b-4cbe-c634-7e91f5ad0bbb",
        "colab": {
          "base_uri": "https://localhost:8080/"
        }
      },
      "outputs": [
        {
          "output_type": "execute_result",
          "data": {
            "text/plain": [
              "torch.Size([100, 1, 28, 28])"
            ]
          },
          "metadata": {},
          "execution_count": 63
        }
      ],
      "source": [
        "# Plot 10 images\n",
        "myiter = iter(myloader.train)\n",
        "img, label = next(myiter) # only one iteration\n",
        "img.shape # batch_size, channel, Height, Width"
      ]
    },
    {
      "cell_type": "markdown",
      "id": "e0c96fa8",
      "metadata": {
        "papermill": {
          "duration": 0.014233,
          "end_time": "2022-11-20T12:19:57.883817",
          "exception": false,
          "start_time": "2022-11-20T12:19:57.869584",
          "status": "completed"
        },
        "tags": [],
        "id": "e0c96fa8"
      },
      "source": [
        "2. We will flatten the dimensions of the batch (1,28,28) that correspond to channel, height, and width. That's a common preprocessing step when using images to allocate a 1D vector to the entry of the network (in our case, a 28 x 28 = 784 vector)."
      ]
    },
    {
      "cell_type": "code",
      "execution_count": 64,
      "id": "8944bab6",
      "metadata": {
        "execution": {
          "iopub.execute_input": "2022-11-20T12:19:57.915881Z",
          "iopub.status.busy": "2022-11-20T12:19:57.914475Z",
          "iopub.status.idle": "2022-11-20T12:19:57.923404Z",
          "shell.execute_reply": "2022-11-20T12:19:57.921822Z"
        },
        "papermill": {
          "duration": 0.028024,
          "end_time": "2022-11-20T12:19:57.926162",
          "exception": false,
          "start_time": "2022-11-20T12:19:57.898138",
          "status": "completed"
        },
        "tags": [],
        "id": "8944bab6",
        "outputId": "7fe900f3-55c9-40cb-eafb-821f3d778137",
        "colab": {
          "base_uri": "https://localhost:8080/"
        }
      },
      "outputs": [
        {
          "output_type": "execute_result",
          "data": {
            "text/plain": [
              "torch.Size([100, 784])"
            ]
          },
          "metadata": {},
          "execution_count": 64
        }
      ],
      "source": [
        "img.view(100,-1).shape # 100 batches of 784 pixels"
      ]
    },
    {
      "cell_type": "markdown",
      "id": "3266c2f4",
      "metadata": {
        "papermill": {
          "duration": 0.013676,
          "end_time": "2022-11-20T12:19:57.954601",
          "exception": false,
          "start_time": "2022-11-20T12:19:57.940925",
          "status": "completed"
        },
        "tags": [],
        "id": "3266c2f4"
      },
      "source": [
        "Let's evaluate that batch without training the model. The prediction returns a 100 x 10 tensor. It means that we obtain ten probabilities for every batch of 100 images (shape is [100,10])."
      ]
    },
    {
      "cell_type": "code",
      "execution_count": 65,
      "id": "71b177d3",
      "metadata": {
        "execution": {
          "iopub.execute_input": "2022-11-20T12:19:57.985775Z",
          "iopub.status.busy": "2022-11-20T12:19:57.985398Z",
          "iopub.status.idle": "2022-11-20T12:19:58.020377Z",
          "shell.execute_reply": "2022-11-20T12:19:58.019203Z"
        },
        "papermill": {
          "duration": 0.053772,
          "end_time": "2022-11-20T12:19:58.022998",
          "exception": false,
          "start_time": "2022-11-20T12:19:57.969226",
          "status": "completed"
        },
        "tags": [],
        "id": "71b177d3",
        "outputId": "a4579d04-9bc5-49dc-943a-875a75ef588b",
        "colab": {
          "base_uri": "https://localhost:8080/"
        }
      },
      "outputs": [
        {
          "output_type": "execute_result",
          "data": {
            "text/plain": [
              "torch.Size([100, 10])"
            ]
          },
          "metadata": {},
          "execution_count": 65
        }
      ],
      "source": [
        "y_pred = mymodel( img.view(100,-1) )\n",
        "y_pred.shape # 100 x 10, meaning for every batch (100) we obtain  (10 probabilities) predictions"
      ]
    },
    {
      "cell_type": "markdown",
      "id": "dfebbecf",
      "metadata": {
        "execution": {
          "iopub.execute_input": "2022-08-07T00:53:24.532474Z",
          "iopub.status.busy": "2022-08-07T00:53:24.531953Z",
          "iopub.status.idle": "2022-08-07T00:53:24.540818Z",
          "shell.execute_reply": "2022-08-07T00:53:24.539350Z",
          "shell.execute_reply.started": "2022-08-07T00:53:24.532436Z"
        },
        "papermill": {
          "duration": 0.014214,
          "end_time": "2022-11-20T12:19:58.055003",
          "exception": false,
          "start_time": "2022-11-20T12:19:58.040789",
          "status": "completed"
        },
        "tags": [],
        "id": "dfebbecf"
      },
      "source": [
        "If we calculate the index with the highest probability for every label outcome, we obtain:"
      ]
    },
    {
      "cell_type": "code",
      "execution_count": 66,
      "id": "6a2122ee",
      "metadata": {
        "execution": {
          "iopub.execute_input": "2022-11-20T12:19:58.086535Z",
          "iopub.status.busy": "2022-11-20T12:19:58.086137Z",
          "iopub.status.idle": "2022-11-20T12:19:58.095298Z",
          "shell.execute_reply": "2022-11-20T12:19:58.094183Z"
        },
        "papermill": {
          "duration": 0.027944,
          "end_time": "2022-11-20T12:19:58.097809",
          "exception": false,
          "start_time": "2022-11-20T12:19:58.069865",
          "status": "completed"
        },
        "tags": [],
        "id": "6a2122ee",
        "outputId": "b77d62e6-af3d-4f8e-f75f-59d9ed945b94",
        "colab": {
          "base_uri": "https://localhost:8080/"
        }
      },
      "outputs": [
        {
          "output_type": "execute_result",
          "data": {
            "text/plain": [
              "tensor([2, 2, 2, 2, 8, 2, 2, 8, 2, 6, 8, 8, 8, 8, 8, 8, 8, 2, 6, 2, 8, 2, 2, 2,\n",
              "        8, 2, 6, 8, 6, 2, 6, 8, 2, 2, 8, 7, 6, 6, 2, 2, 2, 8, 2, 2, 6, 6, 8, 8,\n",
              "        8, 2, 2, 7, 8, 6, 2, 8, 2, 2, 2, 6, 2, 2, 2, 6, 7, 2, 8, 8, 6, 6, 2, 8,\n",
              "        2, 6, 7, 8, 6, 8, 6, 2, 2, 2, 2, 2, 2, 6, 8, 8, 2, 8, 6, 2, 2, 6, 2, 2,\n",
              "        8, 8, 2, 2])"
            ]
          },
          "metadata": {},
          "execution_count": 66
        }
      ],
      "source": [
        "val, idx = torch.max(y_pred, dim=1) # dim 1 is for the output\n",
        "idx # indices == predictions"
      ]
    },
    {
      "cell_type": "markdown",
      "id": "2317e43e",
      "metadata": {
        "papermill": {
          "duration": 0.013715,
          "end_time": "2022-11-20T12:19:58.127362",
          "exception": false,
          "start_time": "2022-11-20T12:19:58.113647",
          "status": "completed"
        },
        "tags": [],
        "id": "2317e43e"
      },
      "source": [
        "3. We will calculate the model's accuracy in every epoch (number of correct projections in/batch size) for both the train and the test dataset."
      ]
    },
    {
      "cell_type": "code",
      "execution_count": 67,
      "id": "6ff1c804",
      "metadata": {
        "execution": {
          "iopub.execute_input": "2022-11-20T12:19:58.157209Z",
          "iopub.status.busy": "2022-11-20T12:19:58.156775Z",
          "iopub.status.idle": "2022-11-20T12:19:58.162600Z",
          "shell.execute_reply": "2022-11-20T12:19:58.161437Z"
        },
        "papermill": {
          "duration": 0.023515,
          "end_time": "2022-11-20T12:19:58.164881",
          "exception": false,
          "start_time": "2022-11-20T12:19:58.141366",
          "status": "completed"
        },
        "tags": [],
        "id": "6ff1c804"
      },
      "outputs": [],
      "source": [
        "# tracking variables\n",
        "\n",
        "class Loss:\n",
        "    \"\"\" Class to monitor train and test lost\"\"\"\n",
        "    train: list = []\n",
        "    test: list = []\n",
        "\n",
        "\n",
        "class Accuracy:\n",
        "    \"\"\" Class to monitor train and test accuracy\"\"\"\n",
        "    train: list = []\n",
        "    test: list = []"
      ]
    },
    {
      "cell_type": "code",
      "execution_count": 68,
      "id": "e497f92e",
      "metadata": {
        "execution": {
          "iopub.execute_input": "2022-11-20T12:19:58.195847Z",
          "iopub.status.busy": "2022-11-20T12:19:58.195391Z",
          "iopub.status.idle": "2022-11-20T12:21:24.319548Z",
          "shell.execute_reply": "2022-11-20T12:21:24.318102Z"
        },
        "papermill": {
          "duration": 86.145977,
          "end_time": "2022-11-20T12:21:24.324987",
          "exception": false,
          "start_time": "2022-11-20T12:19:58.179010",
          "status": "completed"
        },
        "tags": [],
        "id": "e497f92e",
        "outputId": "6fd6cb9c-419c-4922-b995-8ffba8531586",
        "colab": {
          "base_uri": "https://localhost:8080/"
        }
      },
      "outputs": [
        {
          "output_type": "stream",
          "name": "stderr",
          "text": [
            "\r  0%|          | 0/10 [00:00<?, ?it/s]"
          ]
        },
        {
          "output_type": "stream",
          "name": "stdout",
          "text": [
            "Epoch: 0 batch: 200 loss: 0.2996 Accuracy: 82.6550 %\n",
            "Epoch: 0 batch: 400 loss: 0.2726 Accuracy: 87.2475 %\n",
            "Epoch: 0 batch: 600 loss: 0.1816 Accuracy: 89.3167 %\n"
          ]
        },
        {
          "output_type": "stream",
          "name": "stderr",
          "text": [
            "\r 10%|█         | 1/10 [00:09<01:23,  9.30s/it]"
          ]
        },
        {
          "output_type": "stream",
          "name": "stdout",
          "text": [
            "Epoch: 1 batch: 200 loss: 0.1717 Accuracy: 94.6250 %\n",
            "Epoch: 1 batch: 400 loss: 0.0496 Accuracy: 95.0125 %\n",
            "Epoch: 1 batch: 600 loss: 0.1437 Accuracy: 95.2567 %\n"
          ]
        },
        {
          "output_type": "stream",
          "name": "stderr",
          "text": [
            "\r 20%|██        | 2/10 [00:18<01:14,  9.34s/it]"
          ]
        },
        {
          "output_type": "stream",
          "name": "stdout",
          "text": [
            "Epoch: 2 batch: 200 loss: 0.1706 Accuracy: 96.5700 %\n",
            "Epoch: 2 batch: 400 loss: 0.1689 Accuracy: 96.5400 %\n",
            "Epoch: 2 batch: 600 loss: 0.1113 Accuracy: 96.6200 %\n"
          ]
        },
        {
          "output_type": "stream",
          "name": "stderr",
          "text": [
            "\r 30%|███       | 3/10 [00:27<01:04,  9.20s/it]"
          ]
        },
        {
          "output_type": "stream",
          "name": "stdout",
          "text": [
            "Epoch: 3 batch: 200 loss: 0.1434 Accuracy: 97.4550 %\n",
            "Epoch: 3 batch: 400 loss: 0.0125 Accuracy: 97.4975 %\n",
            "Epoch: 3 batch: 600 loss: 0.0761 Accuracy: 97.4100 %\n"
          ]
        },
        {
          "output_type": "stream",
          "name": "stderr",
          "text": [
            "\r 40%|████      | 4/10 [00:36<00:54,  9.01s/it]"
          ]
        },
        {
          "output_type": "stream",
          "name": "stdout",
          "text": [
            "Epoch: 4 batch: 200 loss: 0.0562 Accuracy: 97.9850 %\n",
            "Epoch: 4 batch: 400 loss: 0.1052 Accuracy: 97.9050 %\n",
            "Epoch: 4 batch: 600 loss: 0.0946 Accuracy: 97.9417 %\n"
          ]
        },
        {
          "output_type": "stream",
          "name": "stderr",
          "text": [
            "\r 50%|█████     | 5/10 [00:45<00:45,  9.14s/it]"
          ]
        },
        {
          "output_type": "stream",
          "name": "stdout",
          "text": [
            "Epoch: 5 batch: 200 loss: 0.0782 Accuracy: 98.4950 %\n",
            "Epoch: 5 batch: 400 loss: 0.0238 Accuracy: 98.4025 %\n",
            "Epoch: 5 batch: 600 loss: 0.0412 Accuracy: 98.3367 %\n"
          ]
        },
        {
          "output_type": "stream",
          "name": "stderr",
          "text": [
            "\r 60%|██████    | 6/10 [00:55<00:37,  9.33s/it]"
          ]
        },
        {
          "output_type": "stream",
          "name": "stdout",
          "text": [
            "Epoch: 6 batch: 200 loss: 0.0220 Accuracy: 98.8100 %\n",
            "Epoch: 6 batch: 400 loss: 0.0414 Accuracy: 98.6775 %\n",
            "Epoch: 6 batch: 600 loss: 0.0283 Accuracy: 98.6617 %\n"
          ]
        },
        {
          "output_type": "stream",
          "name": "stderr",
          "text": [
            "\r 70%|███████   | 7/10 [01:04<00:27,  9.29s/it]"
          ]
        },
        {
          "output_type": "stream",
          "name": "stdout",
          "text": [
            "Epoch: 7 batch: 200 loss: 0.0041 Accuracy: 99.0500 %\n",
            "Epoch: 7 batch: 400 loss: 0.0084 Accuracy: 98.9250 %\n",
            "Epoch: 7 batch: 600 loss: 0.0285 Accuracy: 98.8583 %\n"
          ]
        },
        {
          "output_type": "stream",
          "name": "stderr",
          "text": [
            "\r 80%|████████  | 8/10 [01:13<00:18,  9.27s/it]"
          ]
        },
        {
          "output_type": "stream",
          "name": "stdout",
          "text": [
            "Epoch: 8 batch: 200 loss: 0.0076 Accuracy: 99.1900 %\n",
            "Epoch: 8 batch: 400 loss: 0.0840 Accuracy: 99.1550 %\n",
            "Epoch: 8 batch: 600 loss: 0.0532 Accuracy: 99.1117 %\n"
          ]
        },
        {
          "output_type": "stream",
          "name": "stderr",
          "text": [
            "\r 90%|█████████ | 9/10 [01:22<00:09,  9.09s/it]"
          ]
        },
        {
          "output_type": "stream",
          "name": "stdout",
          "text": [
            "Epoch: 9 batch: 200 loss: 0.0391 Accuracy: 99.3550 %\n",
            "Epoch: 9 batch: 400 loss: 0.0598 Accuracy: 99.3225 %\n",
            "Epoch: 9 batch: 600 loss: 0.0201 Accuracy: 99.2250 %\n"
          ]
        },
        {
          "output_type": "stream",
          "name": "stderr",
          "text": [
            "100%|██████████| 10/10 [01:31<00:00,  9.17s/it]"
          ]
        },
        {
          "output_type": "stream",
          "name": "stdout",
          "text": [
            "CPU times: user 1min 30s, sys: 88.7 ms, total: 1min 30s\n",
            "Wall time: 1min 31s\n"
          ]
        },
        {
          "output_type": "stream",
          "name": "stderr",
          "text": [
            "\n"
          ]
        }
      ],
      "source": [
        "%%time\n",
        "\n",
        "epochs = 10\n",
        "for epoch in tqdm(range(epochs)):\n",
        "    # we set the number of True positives to zero in every epoch\n",
        "    train_corr = 0\n",
        "    test_corr = 0\n",
        "\n",
        "    # training: we run the train dataset in batches of 100 images, meaning that run the loader 600 times (600 x 100 = 60,000 images)\n",
        "    for batch, (img, label) in enumerate(myloader.train):\n",
        "        batch +=1\n",
        "        y_pred = mymodel( img.view(100,-1) ) # batch size for train is 100\n",
        "        loss = criterion(y_pred, label)\n",
        "\n",
        "        # last 10-layer neurons into one result\n",
        "        _, prediction = torch.max(y_pred,dim = 1)\n",
        "        train_corr += (prediction == label).sum() # sum of correct predictions\n",
        "\n",
        "\n",
        "        optimizer.zero_grad()\n",
        "        loss.backward()\n",
        "        optimizer.step()\n",
        "\n",
        "        # monitor loss and accuracy every 200 train batches of 100 images ( 3 times per epoch)\n",
        "        if batch%200 == 0:\n",
        "            acc = 100 * (train_corr.item() / (batch*100) ) # correct predictions divided by images in batches\n",
        "            print( f'Epoch:{epoch:2d} batch: {batch:2d} loss: {loss.item():4.4f} Accuracy: {acc:4.4f} %' )\n",
        "\n",
        "    Loss.train.append( loss.item() ) # store loss at the end of epoch\n",
        "    accuracy = 100 * (train_corr.item() / (batch*100) ) # accuracy is 100 x train_corr.item()/60_000\n",
        "    Accuracy.train.append( accuracy ) # store accuracy at the end of epoch\n",
        "\n",
        "\n",
        "    # validation (test). Here we run batches of 500 images, the test loader runs 120 times (120 x 500 = 60,000)\n",
        "    with torch.no_grad():\n",
        "        for batch, (img, label) in enumerate(myloader.test):\n",
        "            batch +=1\n",
        "            y_val = mymodel( img.view(500,-1) ) # batch size for test is 500\n",
        "            _, predicted = torch.max( y_val, dim = 1)\n",
        "            test_corr += (predicted == label).sum()\n",
        "\n",
        "    loss = criterion( y_val,label )\n",
        "    Loss.test.append( loss.item() )\n",
        "    accuracy = 100 * (test_corr.item()/ (batch*500) ) # accuracy is 100 x train_corr.item()/60,000\n",
        "    Accuracy.test.append( accuracy )\n"
      ]
    },
    {
      "cell_type": "markdown",
      "id": "3d85a131",
      "metadata": {
        "execution": {
          "iopub.execute_input": "2022-08-06T02:24:07.968441Z",
          "iopub.status.busy": "2022-08-06T02:24:07.967843Z",
          "iopub.status.idle": "2022-08-06T02:24:07.972846Z",
          "shell.execute_reply": "2022-08-06T02:24:07.971569Z",
          "shell.execute_reply.started": "2022-08-06T02:24:07.968408Z"
        },
        "papermill": {
          "duration": 0.016953,
          "end_time": "2022-11-20T12:21:24.360781",
          "exception": false,
          "start_time": "2022-11-20T12:21:24.343828",
          "status": "completed"
        },
        "tags": [],
        "id": "3d85a131"
      },
      "source": [
        "# Visualization"
      ]
    },
    {
      "cell_type": "markdown",
      "id": "ff82056e",
      "metadata": {
        "papermill": {
          "duration": 0.017387,
          "end_time": "2022-11-20T12:21:24.395164",
          "exception": false,
          "start_time": "2022-11-20T12:21:24.377777",
          "status": "completed"
        },
        "tags": [],
        "id": "ff82056e"
      },
      "source": [
        "We'll see train and test losses, together with its accuracies per epoch. Note that the training data have more minor losses and reach an accuracy of almost 100%. On the other hand, the test data reach almost a plateau of > 95% accuracy, and we could think of using more than two epochs because this is where the training data crosses the accuracy of the testing data."
      ]
    },
    {
      "cell_type": "code",
      "execution_count": 69,
      "id": "a567c623",
      "metadata": {
        "execution": {
          "iopub.execute_input": "2022-11-20T12:21:24.431929Z",
          "iopub.status.busy": "2022-11-20T12:21:24.431486Z",
          "iopub.status.idle": "2022-11-20T12:21:24.831436Z",
          "shell.execute_reply": "2022-11-20T12:21:24.829899Z"
        },
        "papermill": {
          "duration": 0.42189,
          "end_time": "2022-11-20T12:21:24.834140",
          "exception": false,
          "start_time": "2022-11-20T12:21:24.412250",
          "status": "completed"
        },
        "tags": [],
        "id": "a567c623",
        "outputId": "1cdb61bc-f436-458d-caee-64b6ffe2e386",
        "colab": {
          "base_uri": "https://localhost:8080/",
          "height": 389
        }
      },
      "outputs": [
        {
          "output_type": "display_data",
          "data": {
            "text/plain": [
              "<Figure size 1200x400 with 2 Axes>"
            ],
            "image/png": "[encoded data removed]"
          },
          "metadata": {}
        }
      ],
      "source": [
        "fig, ax = plt.subplots(nrows=1, ncols=2, figsize=(12,4))\n",
        "ax[0].plot(Loss.train, label = 'Training')\n",
        "ax[0].plot(Loss.test, label='test/validation')\n",
        "ax[0].set_ylabel('Loss', fontsize=16)\n",
        "\n",
        "\n",
        "ax[1].plot(Accuracy.train, label = 'Training')\n",
        "ax[1].plot(Accuracy.test, label='test/validation')\n",
        "ax[1].set_yticks(range(85,110,5))\n",
        "ax[1].axvline(x=2, color='gray', linestyle=':')\n",
        "ax[1].axhline(y=100, color='gray', linestyle=':')\n",
        "ax[1].set_ylabel('Accuracy (%)', fontsize=16)\n",
        "\n",
        "for myax in ax:\n",
        "    myax.set_xlabel('Epoch', fontsize=16)\n",
        "    myax.set_xticks(range(epochs))\n",
        "    myax.legend(frameon=False)\n",
        "\n"
      ]
    },
    {
      "cell_type": "markdown",
      "id": "a560bec2",
      "metadata": {
        "execution": {
          "iopub.execute_input": "2022-08-08T00:59:08.130182Z",
          "iopub.status.busy": "2022-08-08T00:59:08.129764Z",
          "iopub.status.idle": "2022-08-08T00:59:08.137731Z",
          "shell.execute_reply": "2022-08-08T00:59:08.136336Z",
          "shell.execute_reply.started": "2022-08-08T00:59:08.130148Z"
        },
        "papermill": {
          "duration": 0.017856,
          "end_time": "2022-11-20T12:21:24.870134",
          "exception": false,
          "start_time": "2022-11-20T12:21:24.852278",
          "status": "completed"
        },
        "tags": [],
        "id": "a560bec2"
      },
      "source": [
        "Finally, we evaluate all the test data at once and visualize the accuracy of every outcome for every prediction (i.e., confusion matrix)."
      ]
    },
    {
      "cell_type": "code",
      "execution_count": 70,
      "id": "1cc3e67f",
      "metadata": {
        "execution": {
          "iopub.execute_input": "2022-11-20T12:21:24.909645Z",
          "iopub.status.busy": "2022-11-20T12:21:24.908710Z",
          "iopub.status.idle": "2022-11-20T12:21:26.130704Z",
          "shell.execute_reply": "2022-11-20T12:21:26.129398Z"
        },
        "papermill": {
          "duration": 1.244707,
          "end_time": "2022-11-20T12:21:26.133303",
          "exception": false,
          "start_time": "2022-11-20T12:21:24.888596",
          "status": "completed"
        },
        "tags": [],
        "id": "1cc3e67f",
        "outputId": "b7c78c33-2b12-49bc-f787-67640991d51a",
        "colab": {
          "base_uri": "https://localhost:8080/"
        }
      },
      "outputs": [
        {
          "output_type": "execute_result",
          "data": {
            "text/plain": [
              "torch.Size([10000, 1, 28, 28])"
            ]
          },
          "metadata": {},
          "execution_count": 70
        }
      ],
      "source": [
        "test_loader =  DataLoader(test_data,  batch_size = 10_000, shuffle=False) # the whole test is 10,000 images\n",
        "myiter = iter(test_loader)\n",
        "img, label = next(myiter)\n",
        "img.shape"
      ]
    },
    {
      "cell_type": "code",
      "execution_count": 71,
      "id": "97090a77",
      "metadata": {
        "execution": {
          "iopub.execute_input": "2022-11-20T12:21:26.171560Z",
          "iopub.status.busy": "2022-11-20T12:21:26.171152Z",
          "iopub.status.idle": "2022-11-20T12:21:27.188034Z",
          "shell.execute_reply": "2022-11-20T12:21:27.186452Z"
        },
        "papermill": {
          "duration": 1.039613,
          "end_time": "2022-11-20T12:21:27.190877",
          "exception": false,
          "start_time": "2022-11-20T12:21:26.151264",
          "status": "completed"
        },
        "tags": [],
        "id": "97090a77",
        "outputId": "7a5cb599-a000-4370-893a-f6fcc2797b75",
        "colab": {
          "base_uri": "https://localhost:8080/"
        }
      },
      "outputs": [
        {
          "output_type": "stream",
          "name": "stdout",
          "text": [
            "Test accuracy: = 97.5300 %\n"
          ]
        }
      ],
      "source": [
        "with torch.no_grad():\n",
        "    correct = 0\n",
        "\n",
        "    for X, y_label in test_loader:\n",
        "            y_val = mymodel( X.view(X.shape[0],-1) ) # flatten\n",
        "            _, predicted = torch.max( y_val, dim = 1)\n",
        "            correct += (predicted == y_label).sum()\n",
        "\n",
        "print(f'Test accuracy: = {correct.item()*100/(len(test_data)):2.4f} %')"
      ]
    },
    {
      "cell_type": "code",
      "execution_count": 72,
      "id": "1fc72ef2",
      "metadata": {
        "execution": {
          "iopub.execute_input": "2022-11-20T12:21:27.232042Z",
          "iopub.status.busy": "2022-11-20T12:21:27.231605Z",
          "iopub.status.idle": "2022-11-20T12:21:28.433714Z",
          "shell.execute_reply": "2022-11-20T12:21:28.432754Z"
        },
        "papermill": {
          "duration": 1.225533,
          "end_time": "2022-11-20T12:21:28.436037",
          "exception": false,
          "start_time": "2022-11-20T12:21:27.210504",
          "status": "completed"
        },
        "tags": [],
        "id": "1fc72ef2",
        "outputId": "ac181f0d-bd1f-48e9-8664-12fae4c81270",
        "colab": {
          "base_uri": "https://localhost:8080/"
        }
      },
      "outputs": [
        {
          "output_type": "execute_result",
          "data": {
            "text/plain": [
              "array([[ 969,    0,    3,    0,    0,    0,    4,    0,    2,    2],\n",
              "       [   0, 1121,    4,    2,    0,    0,    2,    0,    6,    0],\n",
              "       [   1,    0, 1022,    2,    0,    0,    2,    2,    2,    1],\n",
              "       [   1,    0,   12,  980,    0,    2,    1,    2,   10,    2],\n",
              "       [   0,    0,    8,    0,  950,    0,    8,    3,    2,   11],\n",
              "       [   1,    0,    0,   12,    1,  858,   10,    0,    9,    1],\n",
              "       [   2,    3,    3,    1,    1,    2,  944,    0,    2,    0],\n",
              "       [   1,    6,   13,    3,    1,    0,    0,  993,    5,    6],\n",
              "       [   3,    0,    4,    2,    1,    2,    4,    2,  954,    2],\n",
              "       [   4,    2,    0,   10,    9,    6,    1,    3,   12,  962]])"
            ]
          },
          "metadata": {},
          "execution_count": 72
        }
      ],
      "source": [
        "from sklearn.metrics import confusion_matrix  # for evaluating results\n",
        "confusion_array = confusion_matrix(y_true = y_label,y_pred = predicted)\n",
        "confusion_array"
      ]
    },
    {
      "cell_type": "code",
      "execution_count": 73,
      "id": "b1026fce",
      "metadata": {
        "execution": {
          "iopub.execute_input": "2022-11-20T12:21:28.475166Z",
          "iopub.status.busy": "2022-11-20T12:21:28.474249Z",
          "iopub.status.idle": "2022-11-20T12:21:29.374100Z",
          "shell.execute_reply": "2022-11-20T12:21:29.372824Z"
        },
        "papermill": {
          "duration": 0.923103,
          "end_time": "2022-11-20T12:21:29.377310",
          "exception": false,
          "start_time": "2022-11-20T12:21:28.454207",
          "status": "completed"
        },
        "tags": [],
        "id": "b1026fce",
        "outputId": "5268b0d4-45a4-4176-c6f5-73654967ca2e",
        "colab": {
          "base_uri": "https://localhost:8080/",
          "height": 627
        }
      },
      "outputs": [
        {
          "output_type": "execute_result",
          "data": {
            "text/plain": [
              "<Axes: >"
            ]
          },
          "metadata": {},
          "execution_count": 73
        },
        {
          "output_type": "display_data",
          "data": {
            "text/plain": [
              "<Figure size 1000x700 with 2 Axes>"
            ],
            "image/png": "[encoded data removed]"
          },
          "metadata": {}
        }
      ],
      "source": [
        "import pandas as pd\n",
        "import seaborn as sn\n",
        "df_cm = pd.DataFrame(confusion_array, range(10), range(10))\n",
        "plt.figure(figsize=(10,7))\n",
        "sn.set(font_scale=1.4) # for label size\n",
        "sn.heatmap(df_cm, annot=True, annot_kws={\"size\": 10}) # font size\n",
        "\n"
      ]
    },
    {
      "cell_type": "code",
      "execution_count": 77,
      "id": "7e4b76b3",
      "metadata": {
        "papermill": {
          "duration": 0.01906,
          "end_time": "2022-11-20T12:21:29.415293",
          "exception": false,
          "start_time": "2022-11-20T12:21:29.396233",
          "status": "completed"
        },
        "tags": [],
        "id": "7e4b76b3",
        "colab": {
          "base_uri": "https://localhost:8080/"
        },
        "outputId": "b38fd048-d529-45e2-c807-b45bf3610f29"
      },
      "outputs": [
        {
          "output_type": "stream",
          "name": "stdout",
          "text": [
            "Tahmin edilen rakam: 3\n"
          ]
        }
      ],
      "source": [
        "from tensorflow.keras.preprocessing import image\n",
        "import numpy as np\n",
        "\n",
        "img = image.load_img('test_image.jpg', target_size=(28, 28), color_mode='grayscale')\n",
        "img_array = image.img_to_array(img)\n",
        "img_array = img_array / 255.0\n",
        "img_array = np.expand_dims(img_array, axis=0)\n",
        "\n",
        "prediction = mymodel(torch.from_numpy(img_array).float().view(1,-1))\n",
        "predicted_class = torch.argmax(prediction).item()\n",
        "print(\"Tahmin edilen rakam:\", predicted_class)"
      ]
    },
    {
      "cell_type": "code",
      "source": [
        "from sklearn.metrics import accuracy_score, f1_score, confusion_matrix\n",
        "import numpy as np\n",
        "import torch\n",
        "\n",
        "all_y_true = []\n",
        "all_y_pred = []\n",
        "\n",
        "# Ensure the model is in evaluation mode\n",
        "mymodel.eval()\n",
        "\n",
        "with torch.no_grad():\n",
        "    for images, labels in test_loader:\n",
        "        # Flatten images for the model\n",
        "        images = images.view(images.shape[0], -1)\n",
        "\n",
        "        # Get predictions\n",
        "        outputs = mymodel(images)\n",
        "        _, predicted = torch.max(outputs.data, 1)\n",
        "\n",
        "        # Collect true and predicted labels\n",
        "        all_y_true.extend(labels.cpu().numpy())\n",
        "        all_y_pred.extend(predicted.cpu().numpy())\n",
        "\n",
        "# Calculate metrics\n",
        "acc = accuracy_score(all_y_true, all_y_pred)\n",
        "f1 = f1_score(all_y_true, all_y_pred, average='macro')\n",
        "conf_matrix = confusion_matrix(all_y_true, all_y_pred)\n",
        "\n",
        "print(f\"Doğruluk (Accuracy): {acc:.4f}\")\n",
        "print(f\"F1 Skoru: {f1:.4f}\")\n",
        "# print(\"Confusion Matrix:\")\n",
        "# print(conf_matrix)"
      ],
      "metadata": {
        "colab": {
          "base_uri": "https://localhost:8080/"
        },
        "id": "BC5n1K5vD9K1",
        "outputId": "36215be7-f03e-43a5-a106-fd1ad8dd0c0c"
      },
      "id": "BC5n1K5vD9K1",
      "execution_count": 79,
      "outputs": [
        {
          "output_type": "stream",
          "name": "stdout",
          "text": [
            "Doğruluk (Accuracy): 0.9753\n",
            "F1 Skoru: 0.9751\n"
          ]
        }
      ]
    },
    {
      "cell_type": "markdown",
      "source": [
        "Hangi Ölçüt Daha Önemli?\n",
        "En uygun ölçüt: F1 Skoru\n",
        "\n",
        "Çünkü:\n",
        "El yazısı tanıma problemi çok sınıflı ve dengesiz olabilir (örneğin bazı rakamlar daha zor tanınır).\n",
        "\n",
        "Accuracy (doğruluk) sadece genel başarıyı gösterir, ancak bazı rakamların çok iyi, bazılarının kötü tanındığını gizleyebilir.\n",
        "\n",
        "F1 skoru ise hassasiyet (precision) ve duyarlılığı (recall) birlikte değerlendirir.\n",
        "\n",
        "Bu yüzden sınıflar arası dengesizlik varsa F1, gerçek performansı daha doğru yansıtır.\n",
        "\n",
        "Eğer veri kümesi her sınıf için dengeliyse, accuracy de anlamlı bir ölçüttür."
      ],
      "metadata": {
        "id": "1Yx5-jCvEPvR"
      },
      "id": "1Yx5-jCvEPvR"
    }
  ],
  "metadata": {
    "kernelspec": {
      "display_name": "venv",
      "language": "python",
      "name": "python3"
    },
    "language_info": {
      "codemirror_mode": {
        "name": "ipython",
        "version": 3
      },
      "file_extension": ".py",
      "mimetype": "text/x-python",
      "name": "python",
      "nbconvert_exporter": "python",
      "pygments_lexer": "ipython3",
      "version": "3.12.4"
    },
    "papermill": {
      "default_parameters": {},
      "duration": 111.072305,
      "end_time": "2022-11-20T12:21:30.460779",
      "environment_variables": {},
      "exception": null,
      "input_path": "__notebook__.ipynb",
      "output_path": "__notebook__.ipynb",
      "parameters": {},
      "start_time": "2022-11-20T12:19:39.388474",
      "version": "2.3.4"
    },
    "colab": {
      "provenance": []
    }
  },
  "nbformat": 4,
  "nbformat_minor": 5
}